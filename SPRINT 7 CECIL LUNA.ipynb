{
 "cells": [
  {
   "cell_type": "markdown",
   "metadata": {},
   "source": [
    "CHECKED AND REVIEWED BY: Mercedes Costal"
   ]
  },
  {
   "cell_type": "markdown",
   "metadata": {},
   "source": [
    "LEVEL 1: EXERCISE 1\n",
    "Step 1: Getting the User’s Name\n",
    "    The program starts by asking for the user’s name with the input() function.\n",
    "    The username is the raw input (what the user types).\n",
    "    The capitalize() function is used to make sure the first letter of the name is uppercase.\n",
    "Step 2: Defining the BMI Function\n",
    "    This defines a function called bodymassindex that calculates the Body Mass Index (BMI).\n",
    "    The function takes two inputs: height (in meters) and weight (in kilograms).\n",
    "    It uses the formula for BMI: BMI = weight / height².\n",
    "    The result is rounded to two decimal places using round().\n",
    "    The return statement sends the calculated BMI back to the main part of the program.\n",
    "Step 3: Asking for Height and Weight\n",
    "    The program asks the user for their height and weight using input().\n",
    "    The float() function converts the user’s input into a decimal number so that the program can do the necessary calculations.\n",
    "    The variables h and w store the height and weight values entered by the user.\n",
    "Step 4: Calculating the BMI\n",
    "    The program calls the bodymassindex() function, using the user’s height (h) and weight (w).\n",
    "    The function calculates the BMI and returns the result, which is stored in the bmi variable.\n",
    "Step 5: Printing the BMI and BMI Category\n",
    "    The program prints the calculated BMI along with the user’s name.\n",
    "Step 6: Determining BMI Category\n",
    "    The if-elif-else structure checks which BMI category the user falls into.\n",
    "    If the BMI is 18.5 or below, the user is underweight.\n",
    "    If the BMI is between 18.5 and 24.9, the weight is normal.\n",
    "    If the BMI is between 25 and 29.9, the user is overweight.\n",
    "    If the BMI is 30 or above, the user is classified as obese.\n",
    "    Based on the BMI value, the program prints a message telling the user their BMI category.\n"
   ]
  },
  {
   "cell_type": "code",
   "execution_count": 10,
   "metadata": {},
   "outputs": [
    {
     "name": "stdout",
     "output_type": "stream",
     "text": [
      "Cecil, your BMI is:  17.78\n",
      "Cecil, you are underweight.\n"
     ]
    }
   ],
   "source": [
    "username = input(\"Hello! Let's find out your Body Mass Index!\\t What's your name\")\n",
    "name= username.capitalize()  \n",
    "\n",
    "def bodymassindex(height, weight):\n",
    "    return round((weight / height**2),2)\n",
    "h = (input(f\"Hi {name}! Please enter your height in meters (use . for decimal): \"))\n",
    "h= float(h.replace(\",\", \".\"))\n",
    "w = (input(f\"{name}, Please enter your weight in kg (use . for decimal): \"))\n",
    "w= float(w.replace(\",\", \".\"))\n",
    "print(f\"{name}, your BMI is: \", bmi)\n",
    "if bmi <= 18.5:\n",
    "    print(f\"{name}, you are underweight.\")\n",
    "elif 18.5 < bmi <= 24.9:\n",
    "    print(f\"{name}, your weight is normal.\")\n",
    "elif 25 < bmi <= 29.9:\n",
    "    print(f\"{name}, you are overweight.\")\n",
    "elif bmi >= 30:\n",
    "    print(f\"{name}, you are obese.\") \n",
    "else: \n",
    "    print(f\"{name}, your data input is incorrect\")\n",
    "\n",
    "\n"
   ]
  },
  {
   "cell_type": "markdown",
   "metadata": {},
   "source": [
    "\n",
    "LEVEL 1: Execise 2\n",
    "Step 1: Defining the Function for Celsius to Fahrenheit\n",
    "    This defines a function named CelsiustoFahrenheit that takes one input (parameter) called Celsius.\n",
    "    Inside the function, it calculates the temperature in Fahrenheit using the formula:\n",
    "        Fahrenheit =(9/5×Celsius)+32\n",
    "    The return statement sends the calculated Fahrenheit temperature back to the main program.\n",
    "Step 2: Defining the Function for Celsius to Kelvin\n",
    "    This defines another function called CelsiustoKelvin that also takes one input called Celsius.\n",
    "    It calculates the temperature in Kelvin using the formula:\n",
    "        Kelvin=Celsius+273.15\n",
    "    Like the first function, the result (Kelvin temperature) is returned to the main program.\n",
    "Step 3: Asking for User Input\n",
    "    The program asks the user to enter a temperature in Celsius.\n",
    "    The input() function displays a message and waits for the user to type in their temperature.\n",
    "    The float() function converts the input into a decimal number (so the program can do the math).\n",
    "    The input value is stored in a variable called celsius_temp.\n",
    "Step 4: Using the Functions to Convert Temperatures\n",
    "    CelsiustoFahrenheit(celsius_temp) takes the temperature the user provided (celsius_temp) and converts it to Fahrenheit. The result is stored in fahrenheit_temp.\n",
    "    CelsiustoKelvin(celsius_temp) converts the Celsius temperature to Kelvin, and the result is stored in kelvin_temp.\n",
    "Step 5: Displaying the Results\n",
    "    These lines print the results:\n",
    "        The first line shows the original temperature the user entered (in Celsius).\n",
    "        The second line shows the temperature converted to Fahrenheit.\n",
    "        The third line shows the temperature converted to Kelvin.\n",
    "\n",
    "\n"
   ]
  },
  {
   "cell_type": "code",
   "execution_count": 9,
   "metadata": {},
   "outputs": [
    {
     "name": "stdout",
     "output_type": "stream",
     "text": [
      "The temperature in Celsius is  40.5\n",
      "The Fahrenheit equivalent of the temperature in Celsius = 104.9\n",
      "The Kelvin equivalent of the temperature in Celsius = 313.65\n"
     ]
    }
   ],
   "source": [
    "#EXERCISE 2 \n",
    "def CelsiustoFahrenheit(Celsius):\n",
    "   fahrenheit = Celsius*(9/5) + 32\n",
    "   return (fahrenheit)\n",
    "def CelsiustoKelvin(Celsius):\n",
    "   kelvin = Celsius + 273.15\n",
    "   return (kelvin)\n",
    "celsius_temp = (input(\"Convert Celsius to Farenheit and Kelvin! Put the temperature in Celcius: \"))\n",
    "celsius_temp = float(celsius_temp.replace(\",\", \".\"))\n",
    "fahrenheit_temp = CelsiustoFahrenheit(celsius_temp)\n",
    "kelvin_temp = CelsiustoKelvin(celsius_temp)\n",
    "print(\"The temperature in Celsius is \",celsius_temp)\n",
    "print(\"The Fahrenheit equivalent of the temperature in Celsius =\", fahrenheit_temp)\n",
    "print(\"The Kelvin equivalent of the temperature in Celsius =\", kelvin_temp)\n",
    "\n",
    "#replace , to . \n"
   ]
  },
  {
   "cell_type": "markdown",
   "metadata": {},
   "source": [
    "LEVEL 1: EXERCISE 3\n",
    "Step 1: Importing string\n",
    "    This line brings in the string module, which includes a list of punctuation marks like periods, commas, and question marks.\n",
    "Step 2: Defining the word_count function\n",
    "    A function called word_count is created. It takes one input called text, which will be the user's text that needs to be counted.\n",
    "Step 3: Removing Punctuation from the Text\n",
    "    This line goes through the text and removes any punctuation. It leaves only the letters and spaces.\n",
    "    For example, if the text is \"Hello, world!\" it becomes \"Hello world\" after this step.\n",
    "Step 4: Splitting the Text into Words\n",
    "    This splits the text into separate words by breaking it at every space.\n",
    "    For example, \"Hello world\" becomes ['Hello', 'world'] which is a list of words.\n",
    "Step 5: Creating a Place to Store Word Counts\n",
    "    An empty dictionary called occurrence is created to keep track of the number of times each word appears. The word will be the key, and the number of times it appears will be the value.\n",
    "Step 6: Counting Each Word\n",
    "    The program goes through each word in the list:\n",
    "        word.lower() changes all letters to lowercase so that \"Hello\" and \"hello\" are treated as the same word.\n",
    "        isalpha() checks that the word is only made up of letters (ignoring numbers and symbols).\n",
    "        If the word is already in the occurrence dictionary, its count is increased by 1. If not, the word is added to the dictionary with a count of 1.\n",
    "Step 7: Showing the Word Counts\n",
    "    This loop goes through each word in the dictionary and prints how many times each word appears in the text.\n",
    "Step 8: Getting User Input and Running the Function\n",
    "    The program asks the user to paste some text with input(), which is saved as text.\n",
    "    The text is printed as it was entered.\n",
    "    The word_count() function is run, counting the words in the text and showing how often each word appears.\n"
   ]
  },
  {
   "cell_type": "code",
   "execution_count": 11,
   "metadata": {},
   "outputs": [
    {
     "name": "stdout",
     "output_type": "stream",
     "text": [
      "The text is: Peter Piper picked a peck of pickled peppers. A peck of pickled peppers Peter Piper picked. If Peter Piper picked a peck of pickled peppers, Where’s the peck of pickled peppers Peter Piper picked? It contains these words\n",
      "It contains these words:\n",
      "peter: 4\n",
      "piper: 4\n",
      "picked: 4\n",
      "a: 3\n",
      "peck: 4\n",
      "of: 4\n",
      "pickled: 4\n",
      "peppers: 4\n",
      "if: 1\n",
      "the: 1\n",
      "it: 1\n",
      "contains: 1\n",
      "these: 1\n",
      "words: 1\n"
     ]
    }
   ],
   "source": [
    "import string  \n",
    "\n",
    "def word_count(text):  \n",
    "    complete_text = ''.join(character for character in text if character not in string.punctuation) \n",
    "    words = complete_text.split()\n",
    "    occurrence = {}\n",
    "    \n",
    "    for word in words:\n",
    "        word = word.lower() \n",
    "        if word.isalpha(): \n",
    "            if word in occurrence:  \n",
    "                occurrence[word] += 1  \n",
    "            else:\n",
    "                occurrence[word] = 1  \n",
    "    \n",
    "    for word, content in occurrence.items():\n",
    "        print(f'{word}: {content}')\n",
    "\n",
    "text = input('Hello, Paste a text that you want to count the words it has: ')\n",
    "print(f'The text is: {text}')  \n",
    "print('It contains these words:')  \n",
    "word_count(text)  "
   ]
  },
  {
   "cell_type": "markdown",
   "metadata": {},
   "source": [
    "LEVEL 1: EXERCISE 4\n",
    "\n",
    "STEP 1: Function Definition\n",
    "    The function my_dictionary(dictionary) is defined to take a dictionary as input.\n",
    "\n",
    "STEP 2: Empty Dictionary Creation\n",
    "    Inside the function, an empty dictionary reversedDictionary is created. This will store the reversed version of the input dictionary.\n",
    "\n",
    "STEP 3: Display Input Dictionary\n",
    "    The function prints the input dictionary using the statement print(f\"The input dictionary is:\", dictionary).\n",
    "\n",
    "STEP 4: Loop Through Dictionary Items\n",
    "    A for loop goes through each key-value pair in the input dictionary.\n",
    "\n",
    "STEP 5: Check for Duplicate Values\n",
    "    If the value is already present in reversedDictionary, a message is printed: \"ATTENTION: The values are not unique.\". The function returns None and stops further execution.\n",
    "\n",
    "STEP 6: Reverse the Key-Value Pairs\n",
    "    If there are no duplicate values, each value from the original dictionary is stored as a key in reversedDictionary, and its associated key becomes the value.\n",
    "\n",
    "STEP 7: Return the Reversed Dictionary\n",
    "    After processing all key-value pairs, the reversed dictionary is returned.\n",
    "\n",
    "STEP 8: Input Dictionary Example\n",
    "    A dictionary is created with country names as keys and capital cities as values.\n",
    "\n",
    "STEP 9: Call the Function\n",
    "    The function my_dictionary(dictionary) is called with the input dictionary.\n",
    "\n",
    "STEP 10: Print the Reversed Dictionary\n",
    "    Finally, the reversed dictionary is printed using print(f\"Reversed Dictionary: \", reversedDictionary).\n",
    "\n"
   ]
  },
  {
   "cell_type": "code",
   "execution_count": 55,
   "metadata": {},
   "outputs": [
    {
     "name": "stdout",
     "output_type": "stream",
     "text": [
      "The input dictionary is: {'Spain': 'Madrid', 'United Arab Emirates': 'Abu Dhabi', 'Philippines': 'Manila', 'China': 'Tokyo', 'Japan': 'Tokyo'}\n",
      "ATTENTION: The values are not unique.\n",
      "Reversed Dicionary:  None\n"
     ]
    }
   ],
   "source": [
    "def my_dictionary(dictionary):\n",
    "\n",
    "    reversedDictionary = {}\n",
    "    print(f\"The input dictionary is:\", dictionary)\n",
    "    \n",
    "    for key, value in dictionary.items():\n",
    "        if value in reversedDictionary:\n",
    "            print(\"ATTENTION: The values are not unique.\")\n",
    "            return None\n",
    "        reversedDictionary[value] = key\n",
    "\n",
    "    return diccionari_invertit\n",
    "\n",
    "dictionary={\"Spain\": \"Madrid\", \"United Arab Emirates\": \"Abu Dhabi\", \n",
    "                 \"Philippines\": \"Manila\", \"China\": \"Tokyo\", \"Japan\": \"Tokyo\"}\n",
    "\n",
    "reversedDictionary = my_dictionary(dictionary)\n",
    "\n",
    "print(f\"Reversed Dicionary: \", reversedDictionary)"
   ]
  }
 ],
 "metadata": {
  "kernelspec": {
   "display_name": "Python 3 (ipykernel)",
   "language": "python",
   "name": "python3"
  },
  "language_info": {
   "codemirror_mode": {
    "name": "ipython",
    "version": 3
   },
   "file_extension": ".py",
   "mimetype": "text/x-python",
   "name": "python",
   "nbconvert_exporter": "python",
   "pygments_lexer": "ipython3",
   "version": "3.12.3"
  }
 },
 "nbformat": 4,
 "nbformat_minor": 2
}
